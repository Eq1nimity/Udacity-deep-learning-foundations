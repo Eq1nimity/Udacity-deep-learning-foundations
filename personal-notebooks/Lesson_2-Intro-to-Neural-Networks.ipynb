{
 "cells": [
  {
   "cell_type": "markdown",
   "metadata": {
    "toc": "true"
   },
   "source": [
    "# Table of Contents\n",
    " <p><div class=\"lev1 toc-item\"><a href=\"#Main\" data-toc-modified-id=\"Main-1\"><span class=\"toc-item-num\">1&nbsp;&nbsp;</span>Main</a></div><div class=\"lev1 toc-item\"><a href=\"#Supplementary\" data-toc-modified-id=\"Supplementary-2\"><span class=\"toc-item-num\">2&nbsp;&nbsp;</span>Supplementary</a></div><div class=\"lev1 toc-item\"><a href=\"#Insights\" data-toc-modified-id=\"Insights-3\"><span class=\"toc-item-num\">3&nbsp;&nbsp;</span>Insights</a></div>"
   ]
  },
  {
   "cell_type": "markdown",
   "metadata": {},
   "source": [
    "# Main \n",
    "\n",
    "This section reiterates over all the primary content of the lesson. \n",
    "\n",
    "This ensures my comprehension, and ability to relay the information; as well as highlighting any gaps in my understanding. \n",
    "\n",
    "Also, presents the opportunity to visualize and personally implement all of the content from the lessons. "
   ]
  },
  {
   "cell_type": "markdown",
   "metadata": {},
   "source": [
    "## Logistic Regression"
   ]
  },
  {
   "cell_type": "markdown",
   "metadata": {},
   "source": [
    "# Supplementary \n",
    "\n",
    "This is any thing that I might have found, that was not intended in the lessons. \n",
    "\n",
    "An example would be making a mistake, and learning a functionality of python. "
   ]
  },
  {
   "cell_type": "markdown",
   "metadata": {},
   "source": []
  },
  {
   "cell_type": "markdown",
   "metadata": {},
   "source": [
    "# Insights\n",
    "\n",
    "This is extrapolated insight taken from any of the above areas. This is all inclusive. \n",
    "\n",
    "Try to work through any insights comprehensively, and contrive concrete mathmatical representations of them!"
   ]
  },
  {
   "cell_type": "markdown",
   "metadata": {},
   "source": []
  }
 ],
 "metadata": {
  "kernelspec": {
   "display_name": "Python 3",
   "language": "python",
   "name": "python3"
  },
  "language_info": {
   "codemirror_mode": {
    "name": "ipython",
    "version": 3
   },
   "file_extension": ".py",
   "mimetype": "text/x-python",
   "name": "python",
   "nbconvert_exporter": "python",
   "pygments_lexer": "ipython3",
   "version": "3.6.1"
  },
  "toc": {
   "colors": {
    "hover_highlight": "#DAA520",
    "navigate_num": "#000000",
    "navigate_text": "#333333",
    "running_highlight": "#FF0000",
    "selected_highlight": "#FFD700",
    "sidebar_border": "#EEEEEE",
    "wrapper_background": "#FFFFFF"
   },
   "moveMenuLeft": true,
   "nav_menu": {
    "height": "68px",
    "width": "252px"
   },
   "navigate_menu": true,
   "number_sections": true,
   "sideBar": true,
   "threshold": 4,
   "toc_cell": true,
   "toc_section_display": "block",
   "toc_window_display": false,
   "widenNotebook": false
  }
 },
 "nbformat": 4,
 "nbformat_minor": 2
}
