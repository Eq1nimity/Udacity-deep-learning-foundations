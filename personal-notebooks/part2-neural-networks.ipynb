{
 "cells": [
  {
   "cell_type": "markdown",
   "metadata": {},
   "source": [
    "# 08/04\n",
    "\n",
    "## Transpose: Be careful with your data. \n",
    "\n",
    "Rule of thumb: You can only use transpose when both of your matricies store data as rows. \n",
    "\n",
    "Q: Why is this? Experiment. \n",
    "\n",
    "\n",
    "## Matrix Transpose \n",
    "\n",
    "There is a difference between reshape and transpose. \n",
    "\n",
    "What is that difference? \n",
    "\n",
    "## transpose() / T in np. \n",
    "\n",
    "\n",
    "\n"
   ]
  },
  {
   "cell_type": "code",
   "execution_count": 1,
   "metadata": {
    "collapsed": true
   },
   "outputs": [],
   "source": [
    "import numpy as np"
   ]
  },
  {
   "cell_type": "code",
   "execution_count": 7,
   "metadata": {},
   "outputs": [
    {
     "name": "stdout",
     "output_type": "stream",
     "text": [
      "Inputs:  [[-0.27  0.75  0.64  0.41]] \n",
      "\n",
      "Inputs Shape:  (1, 4) \n",
      "\n",
      "Weights:  [[ 0.02   0.001 -0.03   0.036]\n",
      " [ 0.04  -0.003  0.025  0.009]\n",
      " [ 0.012 -0.045  0.28  -0.067]] \n",
      "\n",
      "Weights Shape:  (3, 4)\n"
     ]
    }
   ],
   "source": [
    "inputs = np.array([[-0.27, 0.75, 0.64, 0.41]])\n",
    "\n",
    "print(\"Inputs: \", inputs, \"\\n\")\n",
    "print(\"Inputs Shape: \" , inputs.shape, \"\\n\")\n",
    "\n",
    "\n",
    "weights = np.array([[0.02, 0.001, -0.03, 0.036],\n",
    "                    [0.04, -0.003, 0.025, 0.009],\n",
    "                    [0.012, -0.045, 0.28, -0.067]])\n",
    "\n",
    "print(\"Weights: \", weights, \"\\n\")\n",
    "\n",
    "print(\"Weights Shape: \", weights.shape)\n"
   ]
  },
  {
   "cell_type": "code",
   "execution_count": 8,
   "metadata": {},
   "outputs": [
    {
     "ename": "ValueError",
     "evalue": "shapes (1,4) and (3,4) not aligned: 4 (dim 1) != 3 (dim 0)",
     "output_type": "error",
     "traceback": [
      "\u001b[1;31m---------------------------------------------------------------------------\u001b[0m",
      "\u001b[1;31mValueError\u001b[0m                                Traceback (most recent call last)",
      "\u001b[1;32m<ipython-input-8-018086786c69>\u001b[0m in \u001b[0;36m<module>\u001b[1;34m()\u001b[0m\n\u001b[1;32m----> 1\u001b[1;33m \u001b[0mnp\u001b[0m\u001b[1;33m.\u001b[0m\u001b[0mmatmul\u001b[0m\u001b[1;33m(\u001b[0m\u001b[0minputs\u001b[0m\u001b[1;33m,\u001b[0m \u001b[0mweights\u001b[0m\u001b[1;33m)\u001b[0m\u001b[1;33m\u001b[0m\u001b[0m\n\u001b[0m",
      "\u001b[1;31mValueError\u001b[0m: shapes (1,4) and (3,4) not aligned: 4 (dim 1) != 3 (dim 0)"
     ]
    }
   ],
   "source": [
    "np.matmul(inputs, weights)"
   ]
  },
  {
   "cell_type": "code",
   "execution_count": 9,
   "metadata": {},
   "outputs": [
    {
     "data": {
      "text/plain": [
       "array([[-0.00909],\n",
       "       [ 0.00664],\n",
       "       [ 0.11474]])"
      ]
     },
     "execution_count": 9,
     "metadata": {},
     "output_type": "execute_result"
    }
   ],
   "source": [
    "# However, when we transpose the inputs matrix. \n",
    "\n",
    "np.matmul(weights, inputs.T)"
   ]
  },
  {
   "cell_type": "markdown",
   "metadata": {},
   "source": [
    "## Lesson 2 Intro to Neural Networks (Neural Networks) - Visualizing the AND logical operator as a binary table, and then plotting the coordinates on a graph. You can now visualize the data in this manner. \n",
    "\n",
    "\n",
    "Nerual networks then, utilize the encoding of data into numerical value points, which then learning can be imposed upon. \n",
    "\n",
    "How does this work in a larger system with more complex architecture? Its all encoding and processing. \n",
    "\n",
    "For example: \n",
    "\n",
    "You have a test score (which is an arbitrary start point)... you could analyse this process as well. \n",
    "\n",
    "Test score encoded with GPA. This is then arbitraily related on a coordinate system. This relation can be represented in a matrix. Now, if there is enough of these relations with consistant representation, then you have something. It becomes real. This relationship is created, and is not longer arbitrary. \n",
    "\n",
    "Test x GPA x Person matrix. \n"
   ]
  },
  {
   "cell_type": "code",
   "execution_count": 17,
   "metadata": {},
   "outputs": [
    {
     "name": "stdout",
     "output_type": "stream",
     "text": [
      "Person Shape: (2, 2, 1)\n"
     ]
    },
    {
     "data": {
      "text/plain": [
       "array([[[ 1. ],\n",
       "        [ 3.5]],\n",
       "\n",
       "       [[ 2. ],\n",
       "        [ 3. ]]])"
      ]
     },
     "execution_count": 17,
     "metadata": {},
     "output_type": "execute_result"
    }
   ],
   "source": [
    "person = np.array([[[1], [3.5]],\n",
    "                   [[2], [3.0]]])\n",
    "\n",
    "print(\"Person Shape:\", person.shape)\n",
    "person\n"
   ]
  },
  {
   "cell_type": "code",
   "execution_count": null,
   "metadata": {
    "collapsed": true
   },
   "outputs": [],
   "source": [
    "import matplotlib.pyplot as plt\n",
    "\n"
   ]
  }
 ],
 "metadata": {
  "kernelspec": {
   "display_name": "Python 3",
   "language": "python",
   "name": "python3"
  },
  "language_info": {
   "codemirror_mode": {
    "name": "ipython",
    "version": 3
   },
   "file_extension": ".py",
   "mimetype": "text/x-python",
   "name": "python",
   "nbconvert_exporter": "python",
   "pygments_lexer": "ipython3",
   "version": "3.6.1"
  }
 },
 "nbformat": 4,
 "nbformat_minor": 2
}
